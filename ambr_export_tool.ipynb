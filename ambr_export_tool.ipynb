{
 "cells": [
  {
   "cell_type": "markdown",
   "id": "israeli-religion",
   "metadata": {},
   "source": [
    "# ambr250 Data Export\n",
    "\n",
    "This is a tool to reformat ambr250 export data into an EDD-importable format."
   ]
  },
  {
   "cell_type": "code",
   "execution_count": 12,
   "id": "vertical-retirement",
   "metadata": {},
   "outputs": [],
   "source": [
    "import pandas as pd\n",
    "import numpy as np\n",
    "import os\n",
    "import re\n",
    "import json\n",
    "import datetime\n",
    "import time"
   ]
  },
  {
   "cell_type": "code",
   "execution_count": 13,
   "id": "joined-reservation",
   "metadata": {},
   "outputs": [],
   "source": [
    "# Name of .xlsx ambr export file\n",
    "project_name = 'ABFr_3HP_ambr_01 Ambr data export.xlsx'\n",
    "\n",
    "project = project_name.split()[0]"
   ]
  },
  {
   "cell_type": "code",
   "execution_count": 14,
   "id": "progressive-truth",
   "metadata": {},
   "outputs": [],
   "source": [
    "# Dictionary for units\n",
    "units = {\n",
    "    \"Temperature\" : \"°C\",\n",
    "    \"Stir speed\" : \"rpm\",\n",
    "    \"pH\" : \"n/a\",\n",
    "    \"Air flow\" : \"lpm\",\n",
    "    \"DO\" : \"% maximum measured\",\n",
    "    \"Volume\" : \"mL\",\n",
    "    \"OUR\" : \"mM/L/h\",\n",
    "    \"CER\" : \"mM/L/h\",\n",
    "    \"RQ\" : \"n/a\",\n",
    "    \"Feed#1 volume pumped\" : \"mL\",\n",
    "    \"Antifoam volume pumped\" : \"mL\",\n",
    "    \"Acid volume pumped\" : \"mL\",\n",
    "    \"Base volume pumped\" : \"mL\",\n",
    "    \"Volume - sampled\" : \"mL\"\n",
    "}"
   ]
  },
  {
   "cell_type": "code",
   "execution_count": 15,
   "id": "figured-bicycle",
   "metadata": {},
   "outputs": [
    {
     "name": "stdout",
     "output_type": "stream",
     "text": [
      "Import time: 354.4636740684509 seconds\n"
     ]
    }
   ],
   "source": [
    "# Read in export file as pandas Dataframe\n",
    "# Decimation- only keeping every tenth entry\n",
    "t0 = time.time()\n",
    "sheets_dict = pd.read_excel(project_name, sheet_name=None, skiprows=lambda x: x % 10 > 0)\n",
    "\n",
    "t1 = time.time()\n",
    "print(\"Import time: \" + str(t1 - t0) + \" seconds\")"
   ]
  },
  {
   "cell_type": "code",
   "execution_count": 16,
   "id": "saved-adult",
   "metadata": {
    "scrolled": true
   },
   "outputs": [
    {
     "name": "stdout",
     "output_type": "stream",
     "text": [
      "Export time: 4.39131760597229 seconds\n"
     ]
    }
   ],
   "source": [
    "t0 = time.time()\n",
    "for bioreactor_name, sheet in sheets_dict.items():\n",
    "    second_ind = 2\n",
    "    # Iterate through every pair of columns\n",
    "    while second_ind <= len(sheet.columns) + 1:\n",
    "        df = sheet.iloc[:, second_ind-2:second_ind]\n",
    "        timestamps = df.iloc[:,0].name\n",
    "        line_name = project + \"_\" + bioreactor_name\n",
    "        df = df.dropna(subset=[timestamps]).fillna(0)\n",
    "        \n",
    "        reformatted_data = {}\n",
    "        \n",
    "        # Catch \"Volume of inocula\" column (not included in google doc)\n",
    "        if df.columns[1] in units:\n",
    "            unit = units[df.columns[1]]\n",
    "        else:\n",
    "            second_ind += 2\n",
    "            continue\n",
    "        \n",
    "        # Hardcoded measurement type renaming for certain columns\n",
    "        measurement_type = df.columns[1]\n",
    "        if measurement_type == \"Volume - sampled\":\n",
    "            measurement_type = \"Volume sampled\"\n",
    "        elif measurement_type == \"Feed#1 volume pumped\":\n",
    "            measurement_type = \"Feed volume pumped\"\n",
    "        elif measurement_type == \"Temperature\":\n",
    "            measurement_type = \"Vessel temperature\"\n",
    "        elif measurement_type == \"Volume\":\n",
    "            measurement_type = \"Working volume\"\n",
    "        \n",
    "        reformatted_data[\"Line Name\"] = [line_name for _ in range(len(df.index))]\n",
    "        reformatted_data[\"Measurement Type\"] = [measurement_type for _ in range(len(df.index))]\n",
    "        reformatted_data[\"Time\"] = df.iloc[:,0]\n",
    "        reformatted_data[\"Units\"] = [unit for _ in range(len(df.index))]\n",
    "        \n",
    "        # Convert \"Air flow\" data from mL/min to lpm\n",
    "        if measurement_type == \"Air flow\":\n",
    "            reformatted_data[\"Value\"] = df.iloc[:,1].div(1000)\n",
    "        else:\n",
    "            reformatted_data[\"Value\"] = df.iloc[:,1]\n",
    "        \n",
    "        order = [\"Line Name\", \"Measurement Type\", \"Time\", \"Value\", \"Units\"]\n",
    "        reformatted_df = pd.DataFrame(data=reformatted_data)[order]\n",
    "        \n",
    "        measurement_name = measurement_type.lower().replace(\" \", \"_\")\n",
    "        # Export completed dataframe as .csv file\n",
    "        export_filename = line_name + \"_\" + measurement_name + \".csv\"\n",
    "        reformatted_df.to_csv(export_filename, index=False) \n",
    "        \n",
    "        second_ind += 2\n",
    "\n",
    "t1 = time.time()\n",
    "print(\"Export time: \" + str(t1 - t0) + \" seconds\")"
   ]
  },
  {
   "cell_type": "code",
   "execution_count": null,
   "id": "temporal-miami",
   "metadata": {},
   "outputs": [],
   "source": []
  }
 ],
 "metadata": {
  "kernelspec": {
   "display_name": "Python 3",
   "language": "python",
   "name": "python3"
  },
  "language_info": {
   "codemirror_mode": {
    "name": "ipython",
    "version": 3
   },
   "file_extension": ".py",
   "mimetype": "text/x-python",
   "name": "python",
   "nbconvert_exporter": "python",
   "pygments_lexer": "ipython3",
   "version": "3.7.3"
  }
 },
 "nbformat": 4,
 "nbformat_minor": 5
}
