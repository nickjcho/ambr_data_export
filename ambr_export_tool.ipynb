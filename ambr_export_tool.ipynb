{
 "cells": [
  {
   "cell_type": "markdown",
   "id": "israeli-religion",
   "metadata": {},
   "source": [
    "# ambr250 Data Export\n",
    "\n",
    "Specify desired parameters in the 'export_parameters.txt' file.\n",
    "\n",
    "Go to Cell > Run All to export .xlsx files for HT1-HT12."
   ]
  },
  {
   "cell_type": "code",
   "execution_count": 16,
   "id": "atlantic-fruit",
   "metadata": {},
   "outputs": [],
   "source": [
    "import pandas as pd\n",
    "import os\n",
    "import re\n",
    "import json"
   ]
  },
  {
   "cell_type": "code",
   "execution_count": 17,
   "id": "executive-therapy",
   "metadata": {},
   "outputs": [],
   "source": [
    "# Define filepaths\n",
    "project_name = 'ABFr_ambr_03+ABFpj__02'\n",
    "data_directory = project_name + '/Data/00001/B/'\n",
    "export_params_file = 'export_parameters.txt'\n",
    "library_file = \"param_library.json\""
   ]
  },
  {
   "cell_type": "code",
   "execution_count": 18,
   "id": "figured-bicycle",
   "metadata": {},
   "outputs": [],
   "source": [
    "def write_to_csv(filename, patterns):\n",
    "    '''\n",
    "    Converts input .csv files into pandas dataframe, selects for export parameters\n",
    "    and writes as compiled .csv file.\n",
    "    \n",
    "    string filename: filepath to bioreactor (HT1-HT12) that is being exported\n",
    "    dictionary patterns: dictionary with pattern names and their corresponding regex patterns\n",
    "    '''\n",
    "    reactor_data = os.path.join(data_directory, filename)\n",
    "    worksheet_name = 'HT' + str(int(filename))\n",
    "    compiled = pd.DataFrame({'' : []})\n",
    "    # Iterate through export parameters\n",
    "    for parameter in open(export_params_file):\n",
    "        # Get pattern for export parameter from library\n",
    "        pattern = patterns[parameter.rstrip('\\n')]\n",
    "        # Iterate through .csv files and check for pattern match\n",
    "        for sheet_name in os.listdir(reactor_data):\n",
    "            if re.match(pattern, sheet_name):\n",
    "                sheet_path = os.path.join(reactor_data, sheet_name)\n",
    "                df = pd.read_csv(sheet_path, usecols=[0,1], header=2)\n",
    "                # Reformat column header\n",
    "                df.rename(columns={\"VariableKey\": \"Time\"}, inplace=True)\n",
    "                # Assign compiled dataframe or concatenate to existing dataframe\n",
    "                if compiled.empty:\n",
    "                    compiled = df\n",
    "                else:\n",
    "                    compiled = pd.concat([compiled, df], axis=1)\n",
    "\n",
    "    # Export completed dataframe as .csv file\n",
    "    export_filename = project_name + '_export_data_' + worksheet_name + '.csv'\n",
    "    compiled.to_csv(export_filename)  \n",
    "    print(\"Successfully exported data from \" + str(worksheet_name))\n",
    "            \n",
    "def compile_bioreactors(directory):\n",
    "    '''\n",
    "    Iterates through HT1-HT12 and calls export function\n",
    "    \n",
    "    string directory: filepath to directory containing HT1-HT12 data.\n",
    "    '''\n",
    "    with open(library_file) as param_library:\n",
    "        # Load parameter pattern library\n",
    "        param_patterns = json.load(param_library)\n",
    "    for index, filename in enumerate(os.listdir(directory)):\n",
    "            # Match for bioreactor name (HT1-HT12)\n",
    "            if re.match('\\d{2}', filename):\n",
    "                write_to_csv(filename, param_patterns)\n",
    "    print(\"All data exported.\")"
   ]
  },
  {
   "cell_type": "code",
   "execution_count": 19,
   "id": "saved-adult",
   "metadata": {
    "scrolled": false
   },
   "outputs": [
    {
     "name": "stdout",
     "output_type": "stream",
     "text": [
      "Successfully exported data from HT3\n",
      "Successfully exported data from HT4\n",
      "Successfully exported data from HT5\n",
      "Successfully exported data from HT2\n",
      "Successfully exported data from HT11\n",
      "Successfully exported data from HT10\n",
      "Successfully exported data from HT7\n",
      "Successfully exported data from HT9\n",
      "Successfully exported data from HT8\n",
      "Successfully exported data from HT1\n",
      "Successfully exported data from HT6\n",
      "Successfully exported data from HT12\n",
      "All data exported.\n"
     ]
    }
   ],
   "source": [
    "compile_bioreactors(data_directory)"
   ]
  },
  {
   "cell_type": "code",
   "execution_count": null,
   "id": "comparative-requirement",
   "metadata": {},
   "outputs": [],
   "source": []
  }
 ],
 "metadata": {
  "kernelspec": {
   "display_name": "Python 3",
   "language": "python",
   "name": "python3"
  },
  "language_info": {
   "codemirror_mode": {
    "name": "ipython",
    "version": 3
   },
   "file_extension": ".py",
   "mimetype": "text/x-python",
   "name": "python",
   "nbconvert_exporter": "python",
   "pygments_lexer": "ipython3",
   "version": "3.7.3"
  }
 },
 "nbformat": 4,
 "nbformat_minor": 5
}
